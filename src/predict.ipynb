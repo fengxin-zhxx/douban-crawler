{
 "cells": [
  {
   "cell_type": "code",
   "execution_count": 2,
   "metadata": {},
   "outputs": [],
   "source": [
    "from database import * \n",
    "import numpy as np\n",
    "import pandas as pd\n",
    "import os\n",
    "import matplotlib.pyplot as plt\n",
    "\n",
    "type_all = execute_sql('select name from type', 1)[0]\n",
    "actor_all = execute_sql('select name from actor', 1)[0]\n",
    "director_all = execute_sql('select name from director', 1)[0]\n",
    "month = [i for i in range(1, 13)]\n",
    "\n",
    "W = [1, 6, 3.5, 0.5]\n"
   ]
  },
  {
   "cell_type": "code",
   "execution_count": 3,
   "metadata": {},
   "outputs": [],
   "source": [
    "\n",
    "def binary_rep(list):\n",
    "    return [\n",
    "        [1 if item in list[0] else 0 for item in type_all],\n",
    "        [1 if item in list[1] else 0 for item in actor_all],\n",
    "        [1 if item in list[2] else 0 for item in director_all],\n",
    "        list[3]\n",
    "    ]\n",
    "    \n",
    "def month_diff(m1, m2):\n",
    "    if m1 < m2:\n",
    "        m1, m2 = m2, m1\n",
    "    return 1 - min(m1 - m2, m2 + 12 - m1) / 12 "
   ]
  },
  {
   "cell_type": "code",
   "execution_count": 4,
   "metadata": {},
   "outputs": [],
   "source": [
    "def similarity(A, B):\n",
    "    res = []\n",
    "    for i in range(3):\n",
    "        res.append(np.dot(A[i], B[i])/(np.linalg.norm(A[i]) * np.linalg.norm(B[i])))\n",
    "    res.append(month_diff(A[3], B[3]))\n",
    "    \n",
    "    # 加权平均\n",
    "    return np.dot(W, res)\n"
   ]
  },
  {
   "cell_type": "code",
   "execution_count": 5,
   "metadata": {},
   "outputs": [
    {
     "data": {
      "text/plain": [
       "5.574914957130529"
      ]
     },
     "execution_count": 5,
     "metadata": {},
     "output_type": "execute_result"
    }
   ],
   "source": [
    "# TEST\n",
    "similarity_1 = similarity(\n",
    "    binary_rep(\n",
    "            [\n",
    "                ['动画', '剧情'], \n",
    "                ['吴京', '易烊千玺', '沈腾', '尼古拉斯·卡斯柯恩'],\n",
    "                ['徐克', '姜文'],\n",
    "                10\n",
    "            ]),   \n",
    "    binary_rep(\n",
    "            [\n",
    "                ['爱情', '剧情', '奇幻'], \n",
    "                ['吴京', '沈腾', '彭于晏', '伯纳德·希尔'],\n",
    "                ['姜文', '贾玲'],\n",
    "                8\n",
    "            ])\n",
    "    )\n",
    "similarity_1\n"
   ]
  },
  {
   "cell_type": "code",
   "execution_count": 12,
   "metadata": {},
   "outputs": [],
   "source": [
    "if not os.path.isfile('../csv/binary_data.csv'):\n",
    "    df = pd.read_csv('../csv/猫眼_豆瓣.csv')\n",
    "    data = []\n",
    "    for row in df.values:\n",
    "        movie = []\n",
    "        name, date, money, director, actor, type = (row[1], row[2], row[3], row[8], row[9], row[10])\n",
    "        year, month, day = date.split('-')\n",
    "        movie = binary_rep([type, actor, director, int(month)])\n",
    "        # print(movie)\n",
    "        movie.append(money)\n",
    "        movie.append(int(year))\n",
    "        movie.append(name)\n",
    "        data.append(movie)\n",
    "\n",
    "    data = pd.DataFrame(data, columns=['type', 'actor', 'director', 'month', 'money', 'year', 'name'])\n",
    "    data.to_csv('../csv/binary_data.csv')"
   ]
  },
  {
   "cell_type": "code",
   "execution_count": 13,
   "metadata": {},
   "outputs": [
    {
     "data": {
      "image/png": "[encoded data removed]",
      "text/plain": [
       "<Figure size 1200x350 with 1 Axes>"
      ]
     },
     "metadata": {},
     "output_type": "display_data"
    }
   ],
   "source": [
    "from sklearn.linear_model import LinearRegression \n",
    "\n",
    "\n",
    "sql =  'select  substr(date,1,4)  year, avg(money) count \\\n",
    "        from type t left outer join maoyan_movie_type mt on t.id = mt.type_id join maoyan_movie m on m.id = mt.maoyan_id\\\n",
    "        group by  year\\\n",
    "        order by  year\\\n",
    "        limit 1, 14'\n",
    "x, y = execute_sql(sql, 2)\n",
    "y = [float(i) for i in y]\n",
    "x = np.array(x,dtype=int)\n",
    "y = np.array(y,dtype=float)\n",
    "\n",
    "reg = LinearRegression().fit(x.reshape(-1, 1), y.reshape(-1, 1))\n",
    "\n",
    "\n",
    "plt.figure(figsize=(12, 3.5))\n",
    "plt.scatter(x, y,  color='black')\n",
    "plt.plot(x, reg.predict(x.reshape(-1, 1)), color='red', linewidth=1)\n",
    "plt.show()\n",
    "\n",
    "\n"
   ]
  },
  {
   "cell_type": "code",
   "execution_count": 16,
   "metadata": {},
   "outputs": [],
   "source": [
    "def predict(movie):\n",
    "    movie = binary_rep(movie)\n",
    "    data = pd.read_csv('../csv/binary_data.csv')\n",
    "    \n",
    "    \n",
    "    res = []\n",
    "    for item in data.values:\n",
    "        type, actor, director = list(map(lambda x : eval(x), [item[1], item[2], item[3]]))\n",
    "        month, money, year, name = item[4], int(item[5]), int(item[6]), item[7]\n",
    "        res.append((similarity(movie, [type, actor, director, month]), money, year, name))\n",
    "    \n",
    "    res.sort(key=lambda x : -x[0])\n",
    "    \n",
    "    predict_val = 0\n",
    "    cnt = 0\n",
    "    for i in range(5):\n",
    "        if res[i][0] <= 2:\n",
    "            break\n",
    "        cnt += 1\n",
    "        predict_val += res[i][1] * reg.predict([[2023]]) / reg.predict([[res[i][2]]])\n",
    "        \n",
    "        print(res[i])\n",
    "        \n",
    "    return predict_val[0][0] / cnt\n"
   ]
  },
  {
   "cell_type": "code",
   "execution_count": 17,
   "metadata": {},
   "outputs": [
    {
     "name": "stdout",
     "output_type": "stream",
     "text": [
      "(4.6808694950739635, 406733, 2022, '长津湖之水门桥')\n",
      "(3.846339605633867, 577534, 2021, '长津湖')\n",
      "(3.616970526244077, 165207, 2017, '西游伏妖篇')\n",
      "(3.254676920420864, 54469, 2015, '战狼')\n",
      "(3.2450937914128564, 88348, 2014, '智取威虎山')\n"
     ]
    },
    {
     "data": {
      "text/plain": [
       "306848.3916073195"
      ]
     },
     "execution_count": 17,
     "metadata": {},
     "output_type": "execute_result"
    }
   ],
   "source": [
    "movie = [\n",
    "    ['剧情', '历史'],\n",
    "    ['吴京', '包贝尔', '易烊千玺', '邓超', '欧豪', '雷佳音', '郭京飞'],\n",
    "    ['徐克', '吴京'],\n",
    "    2\n",
    "]\n",
    "\n",
    "predict(movie)"
   ]
  },
  {
   "cell_type": "code",
   "execution_count": 18,
   "metadata": {},
   "outputs": [
    {
     "name": "stdout",
     "output_type": "stream",
     "text": [
      "(8.941589026166287, 194190, 2017, '前任3：再见前任')\n",
      "(3.0211400439542415, 58861, 2014, '匆匆那年')\n",
      "(2.668806447200494, 71902, 2013, '致我们终将逝去的青春')\n"
     ]
    },
    {
     "data": {
      "text/plain": [
       "169230.68515821127"
      ]
     },
     "execution_count": 18,
     "metadata": {},
     "output_type": "execute_result"
    }
   ],
   "source": [
    "movie = [\n",
    "    ['爱情', '喜剧'],\n",
    "    ['韩庚', '郑恺', '于文文', '刘雅瑟', '刘天爱'],\n",
    "    ['田羽生'],\n",
    "    10\n",
    "]\n",
    "\n",
    "predict(movie)"
   ]
  }
 ],
 "metadata": {
  "kernelspec": {
   "display_name": "base",
   "language": "python",
   "name": "python3"
  },
  "language_info": {
   "codemirror_mode": {
    "name": "ipython",
    "version": 3
   },
   "file_extension": ".py",
   "mimetype": "text/x-python",
   "name": "python",
   "nbconvert_exporter": "python",
   "pygments_lexer": "ipython3",
   "version": "3.9.13 (main, Aug 25 2022, 23:51:50) [MSC v.1916 64 bit (AMD64)]"
  },
  "orig_nbformat": 4,
  "vscode": {
   "interpreter": {
    "hash": "6a018d3a992d78c184ccc94ab54168c7b26325ed3c2283926339c3edbf5487e7"
   }
  }
 },
 "nbformat": 4,
 "nbformat_minor": 2
}
